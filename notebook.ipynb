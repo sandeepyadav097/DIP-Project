{
 "cells": [
  {
   "cell_type": "code",
   "execution_count": 109,
   "metadata": {
    "scrolled": true
   },
   "outputs": [
    {
     "name": "stdout",
     "output_type": "stream",
     "text": [
      "Column Number: \n",
      "266\n",
      "Row Number: \n",
      "152\n",
      "Radius is: \n",
      "91\n"
     ]
    }
   ],
   "source": [
    "import numpy as np\n",
    "import argparse\n",
    "import cv2\n",
    "import time\n",
    "\n",
    "\n",
    "img = cv2.imread('Cataract 1.jpeg', 0)\n",
    "cv2.imshow('image', img)\n",
    "\n",
    "#img=cv2.resize(img, (256, 256))\n",
    "\n",
    "cv2.waitKey(0)\n",
    "\n",
    "# When everything done, release the capture\n",
    "\n",
    "cv2.destroyAllWindows()\n",
    "output = img.copy()\n",
    "result = img.copy()\n",
    "gray = img\n",
    "\n",
    "\n",
    "# apply GuassianBlur to reduce noise. medianBlur is also added for smoothening, reducing noise.\n",
    "gray = cv2.GaussianBlur(gray,(5,5),0);\n",
    "gray = cv2.medianBlur(gray,5)\n",
    "\n",
    "# Adaptive Guassian Threshold is to detect sharp edges in the Image. For more information Google it.\n",
    "gray = cv2.adaptiveThreshold(gray,255,cv2.ADAPTIVE_THRESH_GAUSSIAN_C,\\\n",
    "        cv2.THRESH_BINARY,11,3.5)\n",
    "\n",
    "kernel = np.ones((2,2),np.uint8)\n",
    "gray = cv2.erode(gray,kernel,iterations = 1)\n",
    "# gray = erosion\n",
    "\n",
    "gray = cv2.dilate(gray,kernel,iterations = 1)\n",
    "# gray = dilation\n",
    "\n",
    "# get the size of the final image\n",
    "# img_size = gray.shape\n",
    "# print img_size\n",
    "\n",
    "# detect circles in the image\n",
    "circles = cv2.HoughCircles(gray, cv2.HOUGH_GRADIENT, 1, 200, param1=30, param2=45, minRadius=0, maxRadius=0)\n",
    "# print circles\n",
    "\n",
    "# ensure at least some circles were found\n",
    "if circles is not None:\n",
    "    # convert the (x, y) coordinates and radius of the circles to integers\n",
    "    circles = np.round(circles[0, :]).astype(\"int\")\n",
    "\n",
    "    # loop over the (x, y) coordinates and radius of the circles\n",
    "    for (x, y, r) in circles:\n",
    "        # draw the circle in the output image, then draw a rectangle in the image\n",
    "        # corresponding to the center of the circle\n",
    "        cv2.circle(output, (x, y), r, (255, 255,255), 2)\n",
    "        #cv2.rectangle(output, (x - 5, y - 5), (x + 5, y + 5), (0, 128, 255), -1)\n",
    "        #time.sleep(0.5)\n",
    "        print (\"Column Number: \")\n",
    "        print (x)\n",
    "        print (\"Row Number: \")\n",
    "        print (y)\n",
    "        print (\"Radius is: \")\n",
    "        print (r)\n",
    "        \n",
    "\n",
    "# Display the resulting frame\n",
    "    cv2.imshow('gray',gray)\n",
    "    cv2.imshow('output',output)\n",
    "    \n",
    "\n",
    "image=result[y-r:y+r, x-r:x+r]\n",
    "cv2.imshow('Cropped Image', image)\n",
    "       \n",
    "resized=cv2.resize(image, (256,256))\n",
    "cv2.imshow('Resized Image', resized)    \n",
    "\n",
    "cv2.waitKey(0)\n",
    "\n",
    "# When everything done, release the capture\n",
    "\n",
    "cv2.destroyAllWindows()"
   ]
  },
  {
   "cell_type": "code",
   "execution_count": 110,
   "metadata": {},
   "outputs": [
    {
     "data": {
      "image/png": "[encoded data removed]",
      "text/plain": [
       "<matplotlib.figure.Figure at 0x2709606a668>"
      ]
     },
     "metadata": {},
     "output_type": "display_data"
    }
   ],
   "source": [
    "#Histogram \n",
    "\n",
    "from matplotlib import pyplot as plt\n",
    "img = resized\n",
    "img2=resized\n",
    "hist,bins = np.histogram(img.flatten(),256,[0,256])\n",
    "cdf = hist.cumsum() \n",
    "cdf_normalized = cdf * hist.max()/ cdf.max()\n",
    "plt.plot(cdf_normalized, color = 'b') \n",
    "plt.hist(img.flatten(),256,[0,256], color = 'r') \n",
    "plt.xlim([0,256]) \n",
    "plt.legend(('cdf','histogram'), loc = 'upper left') \n",
    "plt.show()\n"
   ]
  },
  {
   "cell_type": "code",
   "execution_count": 105,
   "metadata": {
    "scrolled": true
   },
   "outputs": [
    {
     "data": {
      "text/plain": [
       "array([    0,     0,     7,     9,    12,    27,    41,   111,   284,\n",
       "         498,  1093,  3332, 36908,  4832,  2425,  1539,  1153,   812,\n",
       "         543,   449,   374,   339,   263,   231,   216,   196,   168,\n",
       "         151,   128,   148,   125,   145,   140,   127,   144,   163,\n",
       "         133,   124,   144,   139,   148,   141,   146,   134,   141,\n",
       "         131,   163,   203,   158,   173,   134,   172,   163,   177,\n",
       "         175,   184,   195,   181,   172,   189,   147,   153,   157,\n",
       "         163,   140,   119,   164,   146,   131,   146,   151,   161,\n",
       "         131,   133,   106,   141,   125,   119,   103,   106,   105,\n",
       "          84,   108,    92,    91,   108,    94,    96,    90,    86,\n",
       "          83,    63,    79,    63,    47,    59,    61,    51,    37,\n",
       "          36,    31,    28,    37,    24,    24,    14,    19,    22,\n",
       "           8,    11,    10,    13,     6,    12,     8,     6,     6,\n",
       "           9,     5,     8,     3,     1,     2,     1,     0,     0,\n",
       "           0,     0,     0,     0,     0,     0,     0,     0,     0,\n",
       "           0,     0,     0,     0,     0,     0,     0,     0,     0,\n",
       "           0,     0,     0,     0,     0,     0,     0,     0,     0,\n",
       "           0,     0,     0,     0,     0,     0,     0,     0,     0,\n",
       "           0,     0,     0,     0,     0,     0,     0,     0,     0,\n",
       "           0,     0,     0,     0,     0,     0,     0,     0,     0,\n",
       "           0,     0,     0,     0,     0,     0,     0,     0,     0,\n",
       "           0,     0,     0,     0,     0,     0,     0,     0,     0,\n",
       "           0,     0,     0,     0,     0,     0,     0,     0,     0,\n",
       "           0,     0,     0,     0,     0,     0,     0,     0,     0,\n",
       "           0,     0,     0,     0,     0,     0,     0,     0,     0,\n",
       "           0,     0,     0,     0,     0,     0,     0,     0,     0,\n",
       "           0,     0,     0,     0,     0,     0,     0,     0,     0,\n",
       "           0,     0,     0,     0,     0,     0,     0,     0,     0,\n",
       "           0,     0,     0,     0], dtype=int64)"
      ]
     },
     "execution_count": 105,
     "metadata": {},
     "output_type": "execute_result"
    }
   ],
   "source": [
    "hist"
   ]
  },
  {
   "cell_type": "code",
   "execution_count": null,
   "metadata": {
    "collapsed": true
   },
   "outputs": [],
   "source": []
  },
  {
   "cell_type": "code",
   "execution_count": 131,
   "metadata": {},
   "outputs": [
    {
     "data": {
      "text/plain": [
       "0.010606417432427406"
      ]
     },
     "execution_count": 131,
     "metadata": {},
     "output_type": "execute_result"
    }
   ],
   "source": [
    "uniformity=((hist/(256*256))**2).sum()\n",
    "uniformity\n"
   ]
  },
  {
   "cell_type": "code",
   "execution_count": null,
   "metadata": {
    "collapsed": true
   },
   "outputs": [],
   "source": []
  },
  {
   "cell_type": "code",
   "execution_count": 111,
   "metadata": {},
   "outputs": [
    {
     "data": {
      "image/png": "[encoded data removed]",
      "text/plain": [
       "<matplotlib.figure.Figure at 0x270972a37f0>"
      ]
     },
     "metadata": {},
     "output_type": "display_data"
    }
   ],
   "source": [
    "#Equalizition \n",
    "equ = cv2.equalizeHist(img2) \n",
    "res = np.hstack((img2,equ))\n",
    "img1=img2\n",
    "img2=equ\n",
    "hist,bins = np.histogram(img2.flatten(),256,[0,256])\n",
    "cdf = hist.cumsum() \n",
    "cdf_normalized = cdf * hist.max()/ cdf.max()\n",
    "plt.plot(cdf_normalized, color = 'b') \n",
    "plt.hist(img2.flatten(),256,[0,256], color = 'r') \n",
    "plt.xlim([0,256]) \n",
    "plt.legend(('cdf','histogram'), loc = 'upper left') \n",
    "plt.show()\n",
    "cv2.imshow('result',equ)\n",
    "cv2.imshow('Original',img1)\n",
    "\n",
    "resultant_image=equ\n",
    "cv2.waitKey(0) \n",
    "\n",
    "cv2.destroyAllWindows()"
   ]
  },
  {
   "cell_type": "code",
   "execution_count": 50,
   "metadata": {
    "collapsed": true
   },
   "outputs": [],
   "source": [
    "resultant_image=resized"
   ]
  },
  {
   "cell_type": "code",
   "execution_count": 132,
   "metadata": {
    "collapsed": true
   },
   "outputs": [],
   "source": [
    "intensity=resultant_image.flatten().sum()/(256*256)"
   ]
  },
  {
   "cell_type": "code",
   "execution_count": 133,
   "metadata": {},
   "outputs": [
    {
     "data": {
      "text/plain": [
       "128.85519409179688"
      ]
     },
     "execution_count": 133,
     "metadata": {},
     "output_type": "execute_result"
    }
   ],
   "source": [
    "intensity"
   ]
  },
  {
   "cell_type": "code",
   "execution_count": null,
   "metadata": {
    "collapsed": true
   },
   "outputs": [],
   "source": []
  },
  {
   "cell_type": "code",
   "execution_count": null,
   "metadata": {
    "collapsed": true
   },
   "outputs": [],
   "source": []
  },
  {
   "cell_type": "code",
   "execution_count": null,
   "metadata": {
    "collapsed": true
   },
   "outputs": [],
   "source": []
  },
  {
   "cell_type": "code",
   "execution_count": null,
   "metadata": {
    "collapsed": true
   },
   "outputs": [],
   "source": []
  },
  {
   "cell_type": "code",
   "execution_count": null,
   "metadata": {
    "collapsed": true
   },
   "outputs": [],
   "source": []
  },
  {
   "cell_type": "code",
   "execution_count": null,
   "metadata": {
    "collapsed": true
   },
   "outputs": [],
   "source": []
  },
  {
   "cell_type": "code",
   "execution_count": null,
   "metadata": {
    "collapsed": true
   },
   "outputs": [],
   "source": []
  },
  {
   "cell_type": "code",
   "execution_count": null,
   "metadata": {
    "collapsed": true
   },
   "outputs": [],
   "source": []
  },
  {
   "cell_type": "code",
   "execution_count": null,
   "metadata": {
    "collapsed": true
   },
   "outputs": [],
   "source": []
  },
  {
   "cell_type": "code",
   "execution_count": null,
   "metadata": {
    "collapsed": true
   },
   "outputs": [],
   "source": []
  },
  {
   "cell_type": "code",
   "execution_count": null,
   "metadata": {
    "collapsed": true
   },
   "outputs": [],
   "source": []
  },
  {
   "cell_type": "code",
   "execution_count": null,
   "metadata": {
    "collapsed": true
   },
   "outputs": [],
   "source": []
  },
  {
   "cell_type": "code",
   "execution_count": null,
   "metadata": {
    "collapsed": true
   },
   "outputs": [],
   "source": []
  },
  {
   "cell_type": "code",
   "execution_count": null,
   "metadata": {
    "collapsed": true
   },
   "outputs": [],
   "source": []
  },
  {
   "cell_type": "code",
   "execution_count": null,
   "metadata": {
    "collapsed": true
   },
   "outputs": [],
   "source": []
  },
  {
   "cell_type": "code",
   "execution_count": null,
   "metadata": {
    "collapsed": true
   },
   "outputs": [],
   "source": []
  },
  {
   "cell_type": "code",
   "execution_count": null,
   "metadata": {
    "collapsed": true
   },
   "outputs": [],
   "source": []
  },
  {
   "cell_type": "code",
   "execution_count": null,
   "metadata": {
    "collapsed": true
   },
   "outputs": [],
   "source": []
  },
  {
   "cell_type": "code",
   "execution_count": null,
   "metadata": {
    "collapsed": true
   },
   "outputs": [],
   "source": []
  },
  {
   "cell_type": "code",
   "execution_count": null,
   "metadata": {
    "collapsed": true
   },
   "outputs": [],
   "source": []
  },
  {
   "cell_type": "code",
   "execution_count": 3,
   "metadata": {},
   "outputs": [
    {
     "data": {
      "image/png": "[encoded data removed]",
      "text/plain": [
       "<matplotlib.figure.Figure at 0x2708a847160>"
      ]
     },
     "metadata": {},
     "output_type": "display_data"
    }
   ],
   "source": [
    "import cv2\n",
    "import numpy as np\n",
    "from matplotlib import pyplot as plt\n",
    " \n",
    "img = cv2.imread('Cataract 1.jpeg',0)\n",
    "xd=img.copy()\n",
    "hist,bins = np.histogram(img.flatten(),256,[0,256])\n",
    "\n",
    "cdf = hist.cumsum()\n",
    "cdf_normalized = cdf * hist.max()/ cdf.max()\n",
    " \n",
    "plt.plot(cdf_normalized, color = 'b')\n",
    "plt.hist(img.flatten(),256,[0,256], color = 'r')\n",
    "plt.xlim([0,256])\n",
    "plt.legend(('cdf','histogram'), loc = 'upper left')\n",
    "plt.show()\n"
   ]
  },
  {
   "cell_type": "code",
   "execution_count": null,
   "metadata": {
    "collapsed": true
   },
   "outputs": [],
   "source": [
    "import numpy as np\n",
    "import cv2\n",
    "\n",
    "# create a CLAHE object (Arguments are optional).\n",
    "clahe = cv2.createCLAHE(clipLimit=2.0, tileGridSize=(8,8))\n",
    "cl1 = clahe.apply(img)\n",
    "\n",
    "cv2.imwrite('clahe_2.jpg',cl1)"
   ]
  },
  {
   "cell_type": "code",
   "execution_count": null,
   "metadata": {
    "collapsed": true
   },
   "outputs": [],
   "source": []
  },
  {
   "cell_type": "code",
   "execution_count": null,
   "metadata": {
    "collapsed": true
   },
   "outputs": [],
   "source": []
  },
  {
   "cell_type": "code",
   "execution_count": null,
   "metadata": {
    "collapsed": true
   },
   "outputs": [],
   "source": []
  },
  {
   "cell_type": "code",
   "execution_count": null,
   "metadata": {
    "collapsed": true
   },
   "outputs": [],
   "source": []
  },
  {
   "cell_type": "code",
   "execution_count": null,
   "metadata": {
    "collapsed": true
   },
   "outputs": [],
   "source": []
  },
  {
   "cell_type": "code",
   "execution_count": null,
   "metadata": {
    "collapsed": true
   },
   "outputs": [],
   "source": []
  },
  {
   "cell_type": "code",
   "execution_count": null,
   "metadata": {
    "collapsed": true
   },
   "outputs": [],
   "source": []
  },
  {
   "cell_type": "code",
   "execution_count": null,
   "metadata": {
    "collapsed": true
   },
   "outputs": [],
   "source": []
  },
  {
   "cell_type": "code",
   "execution_count": null,
   "metadata": {
    "collapsed": true
   },
   "outputs": [],
   "source": []
  },
  {
   "cell_type": "code",
   "execution_count": null,
   "metadata": {
    "collapsed": true
   },
   "outputs": [],
   "source": []
  },
  {
   "cell_type": "code",
   "execution_count": null,
   "metadata": {
    "collapsed": true
   },
   "outputs": [],
   "source": []
  },
  {
   "cell_type": "code",
   "execution_count": null,
   "metadata": {
    "collapsed": true
   },
   "outputs": [],
   "source": []
  },
  {
   "cell_type": "code",
   "execution_count": null,
   "metadata": {
    "collapsed": true
   },
   "outputs": [],
   "source": []
  },
  {
   "cell_type": "code",
   "execution_count": null,
   "metadata": {
    "collapsed": true
   },
   "outputs": [],
   "source": [
    "if len(circles) == 1:\n",
    "    x, y, r = circles[0]\n",
    "    print (x, y, r)\n",
    "    mask = np.zeros((img.shape[0],img.shape[1]),dtype=np.uint8)\n",
    "    cv2.circle(mask,(x,y),r,(255,255,255),-1,8,0)\n",
    "    #cv2.imwrite(argv[2],mask)\n",
    "    out = img*mask\n",
    "    white = 255-mask\n",
    "    cv2.imwrite('new.jpg',255-out+white)\n",
    "    new=cv2.imread('new.jpg', 0)\n",
    "    cv2.imshow('new',new)\n",
    "    "
   ]
  },
  {
   "cell_type": "code",
   "execution_count": null,
   "metadata": {
    "collapsed": true
   },
   "outputs": [],
   "source": []
  },
  {
   "cell_type": "code",
   "execution_count": null,
   "metadata": {
    "collapsed": true
   },
   "outputs": [],
   "source": []
  },
  {
   "cell_type": "code",
   "execution_count": null,
   "metadata": {
    "collapsed": true
   },
   "outputs": [],
   "source": []
  },
  {
   "cell_type": "code",
   "execution_count": null,
   "metadata": {
    "collapsed": true
   },
   "outputs": [],
   "source": []
  },
  {
   "cell_type": "code",
   "execution_count": null,
   "metadata": {
    "collapsed": true
   },
   "outputs": [],
   "source": []
  },
  {
   "cell_type": "code",
   "execution_count": null,
   "metadata": {
    "collapsed": true
   },
   "outputs": [],
   "source": []
  },
  {
   "cell_type": "code",
   "execution_count": null,
   "metadata": {
    "collapsed": true
   },
   "outputs": [],
   "source": []
  },
  {
   "cell_type": "code",
   "execution_count": null,
   "metadata": {
    "collapsed": true
   },
   "outputs": [],
   "source": []
  },
  {
   "cell_type": "code",
   "execution_count": null,
   "metadata": {
    "collapsed": true
   },
   "outputs": [],
   "source": []
  },
  {
   "cell_type": "code",
   "execution_count": null,
   "metadata": {
    "collapsed": true
   },
   "outputs": [],
   "source": []
  },
  {
   "cell_type": "code",
   "execution_count": null,
   "metadata": {
    "collapsed": true
   },
   "outputs": [],
   "source": [
    "if len(circles) == 1:\n",
    "    x, y, r = circles[0]\n",
    "    print (x, y, r)\n",
    "    mask = np.zeros((img.shape[0],img.shape[1]),dtype=np.uint8)\n",
    "    cv2.circle(mask,(x,y),r,(255,255,255),-1,8,0)\n",
    "    #cv2.imwrite(argv[2],mask)\n",
    "    out = img*mask\n",
    "    white = 255-mask\n",
    "    cv2.imwrite('new.jpg',255-out+white)\n",
    "    \n",
    "new=cv2.imread('new.jpg', 0)\n",
    "cv2.imshow('gray',gray)\n",
    "cv2.imshow('frame',output)\n",
    "cv2.imshow('new',new)\n",
    "    \n",
    "      \n",
    "    \n",
    "    \n",
    "cv2.waitKey(0)   \n",
    "\n",
    "cv2.destroyAllWindows()"
   ]
  },
  {
   "cell_type": "code",
   "execution_count": null,
   "metadata": {
    "collapsed": true
   },
   "outputs": [],
   "source": [
    "\n",
    "# ensure at least some circles were found\n",
    "if circles is not None:\n",
    "    # convert the (x, y) coordinates and radius of the circles to integers\n",
    "    circles = np.round(circles[0, :]).astype(\"int\")\n",
    "\n",
    "    # loop over the (x, y) coordinates and radius of the circles\n",
    "    for (x, y, r) in circles:\n",
    "        # draw the circle in the output image, then draw a rectangle in the image\n",
    "        # corresponding to the center of the circle\n",
    "        cv2.circle(output, (x, y), r, (0, 255, 0), 4)\n",
    "        cv2.rectangle(output, (x - 5, y - 5), (x + 5, y + 5), (0, 128, 255), -1)\n",
    "        #time.sleep(0.5)\n",
    "        print (\"Column Number: \")\n",
    "        print (x)\n",
    "        print (\"Row Number: \")\n",
    "        print (y)\n",
    "        print (\"Radius is: \")\n",
    "        print (r)\n",
    "\n",
    "# Display the resulting frame\n",
    "    cv2.imshow('gray',gray)\n",
    "    cv2.imshow('frame',output)\n",
    "    \n",
    "    \n",
    "    \n",
    "cv2.waitKey(0)\n",
    "\n",
    "# When everything done, release the capture\n",
    "\n",
    "cv2.destroyAllWindows()"
   ]
  },
  {
   "cell_type": "code",
   "execution_count": null,
   "metadata": {
    "collapsed": true
   },
   "outputs": [],
   "source": []
  },
  {
   "cell_type": "code",
   "execution_count": null,
   "metadata": {
    "collapsed": true
   },
   "outputs": [],
   "source": [
    "\n",
    "# ensure at least some circles were found\n",
    "if circles is not None:\n",
    "    # convert the (x, y) coordinates and radius of the circles to integers\n",
    "    circles = np.round(circles[0, :]).astype(\"int\")\n",
    "\n",
    "    # loop over the (x, y) coordinates and radius of the circles\n",
    "    for (x, y, r) in circles:\n",
    "        # draw the circle in the output image, then draw a rectangle in the image\n",
    "        # corresponding to the center of the circle\n",
    "        cv2.circle(output, (x, y), r, (0, 255, 0), 4)\n",
    "        cv2.rectangle(output, (x - 5, y - 5), (x + 5, y + 5), (0, 128, 255), -1)\n",
    "        #time.sleep(0.5)\n",
    "        print (\"Column Number: \")\n",
    "        print (x)\n",
    "        print (\"Row Number: \")\n",
    "        print (y)\n",
    "        print (\"Radius is: \")\n",
    "        print (r)\n",
    "\n",
    "# Display the resulting frame\n",
    "    cv2.imshow('gray',gray)\n",
    "    cv2.imshow('frame',output)\n",
    "    \n",
    "    \n",
    "    \n",
    "cv2.waitKey(0)\n",
    "\n",
    "# When everything done, release the capture\n",
    "\n",
    "cv2.destroyAllWindows()"
   ]
  },
  {
   "cell_type": "code",
   "execution_count": null,
   "metadata": {
    "collapsed": true
   },
   "outputs": [],
   "source": []
  },
  {
   "cell_type": "code",
   "execution_count": null,
   "metadata": {
    "collapsed": true
   },
   "outputs": [],
   "source": []
  },
  {
   "cell_type": "code",
   "execution_count": null,
   "metadata": {
    "collapsed": true
   },
   "outputs": [],
   "source": []
  },
  {
   "cell_type": "code",
   "execution_count": null,
   "metadata": {
    "collapsed": true
   },
   "outputs": [],
   "source": []
  },
  {
   "cell_type": "code",
   "execution_count": null,
   "metadata": {
    "collapsed": true
   },
   "outputs": [],
   "source": []
  },
  {
   "cell_type": "code",
   "execution_count": null,
   "metadata": {
    "collapsed": true
   },
   "outputs": [],
   "source": []
  },
  {
   "cell_type": "code",
   "execution_count": null,
   "metadata": {
    "collapsed": true
   },
   "outputs": [],
   "source": []
  },
  {
   "cell_type": "code",
   "execution_count": null,
   "metadata": {
    "collapsed": true
   },
   "outputs": [],
   "source": [
    "  \n",
    "if val is not None:\n",
    "    # convert the (x, y) coordinates and radius of the circles to integers\n",
    "    val = np.round(circles[0, :]).astype(\"int\")\n",
    "    \n",
    "    # loop over the (x, y) coordinates and radius of the circles\n",
    "    for (x, y, r) in val:\n",
    "        # draw the circle in the output image, then draw a rectangle in the image\n",
    "        # corresponding to the center of the circle\n",
    "        cv2.circle(output, (x, y), r, (0, 255, 0), 4)\n",
    "        cv2.rectangle(output, (x - 5, y - 5), (x + 5, y + 5), (0, 128, 255), -1)\n",
    "        #time.sleep(0.5)\n",
    "        \n",
    "\n",
    "# Display the resulting frame\n",
    "    cv2.imshow('gray',gray)\n",
    "    cv2.imshow('frame',output)\n",
    "\n",
    "cv2.waitKey(0)\n",
    "# When everything done, release the capture\n",
    "\n",
    "cv2.destroyAllWindows()\n"
   ]
  }
 ],
 "metadata": {
  "kernelspec": {
   "display_name": "Python 3",
   "language": "python",
   "name": "python3"
  },
  "language_info": {
   "codemirror_mode": {
    "name": "ipython",
    "version": 3
   },
   "file_extension": ".py",
   "mimetype": "text/x-python",
   "name": "python",
   "nbconvert_exporter": "python",
   "pygments_lexer": "ipython3",
   "version": "3.6.3"
  }
 },
 "nbformat": 4,
 "nbformat_minor": 2
}
