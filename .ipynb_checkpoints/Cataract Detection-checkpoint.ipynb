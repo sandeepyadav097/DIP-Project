{
 "cells": [
  {
   "cell_type": "code",
   "execution_count": 1,
   "metadata": {
    "collapsed": true
   },
   "outputs": [],
   "source": [
    "import cv2\n",
    "import numpy as np"
   ]
  },
  {
   "cell_type": "code",
   "execution_count": 2,
   "metadata": {},
   "outputs": [],
   "source": [
    "img = cv2.imread('cataract.jpg', 0)\n",
    "cv2.imshow('image', img)\n",
    "\n",
    "\n",
    "circles = cv2.HoughCircles(img,cv2.HOUGH_GRADIENT,1,20, param1=50,param2=30,minRadius=0,maxRadius=0)\n",
    "arr=circles\n",
    "arr=arr[0]\n",
    "arr=arr[np.argsort(arr[:, 2])]\n",
    "\n",
    "cimg=img\n",
    "for i in range(len(arr)-1,len(arr)-2,-1):\n",
    "    cv2.circle(cimg,(arr[i][0],arr[i][1]),arr[i][2],(0,255,0),2)\n",
    "cv2.imshow('img',cimg)\n",
    "cv2.waitKey()\n",
    "cv2.destroyAllWindows()"
   ]
  },
  {
   "cell_type": "code",
   "execution_count": 7,
   "metadata": {},
   "outputs": [
    {
     "data": {
      "text/plain": [
       "32"
      ]
     },
     "execution_count": 7,
     "metadata": {},
     "output_type": "execute_result"
    }
   ],
   "source": [
    "# import the necessary packages\n",
    "import numpy as np\n",
    "import argparse\n",
    "import cv2\n",
    "\n",
    "# load the image, clone it for output, and then convert it to grayscale\n",
    "image = cv2.imread('cataract.jpg')\n",
    "output = image.copy()\n",
    "gray = cv2.cvtColor(image, cv2.COLOR_BGR2GRAY)\n",
    "\n",
    "# detect circles in the image\n",
    "circles = cv2.HoughCircles(gray, cv2.HOUGH_GRADIENT, 1.2, 100)\n",
    "\n",
    "# ensure at least some circles were found\n",
    "if circles is not None:\n",
    "    # convert the (x, y) coordinates and radius of the circles to integers\n",
    "\tcircles = np.round(circles[0, :]).astype(\"int\")\n",
    "\n",
    "\t# loop over the (x, y) coordinates and radius of the circles\n",
    "\tfor (x, y, r) in circles:\n",
    "\t\t# draw the circle in the output image, then draw a rectangle\n",
    "\t\t# corresponding to the center of the circle\n",
    "\t\tcv2.circle(output, (x, y), r, (0, 255, 0), 4)\n",
    "\t\tcv2.rectangle(output, (x - 5, y - 5), (x + 5, y + 5), (0, 128, 255), -1)\n",
    "\n",
    "# show the output image\n",
    "    cv2.imshow(\"output\", np.hstack([image, output]))\n",
    "    cv2.waitKey(0)"
   ]
  },
  {
   "cell_type": "code",
   "execution_count": 18,
   "metadata": {
    "scrolled": true
   },
   "outputs": [
    {
     "data": {
      "image/png": "[encoded data removed]",
      "text/plain": [
       "<matplotlib.figure.Figure at 0x1fce7608080>"
      ]
     },
     "metadata": {},
     "output_type": "display_data"
    },
    {
     "data": {
      "image/png": "[encoded data removed]",
      "text/plain": [
       "<matplotlib.figure.Figure at 0x1fce782f5f8>"
      ]
     },
     "metadata": {},
     "output_type": "display_data"
    }
   ],
   "source": [
    "#Histogram equalization\n",
    "\n",
    "from matplotlib import pyplot as plt\n",
    "img = cv2.imread('cataract.jpg',0)\n",
    "hist,bins = np.histogram(img.flatten(),256,[0,256])\n",
    "cdf = hist.cumsum() \n",
    "cdf_normalized = cdf * hist.max()/ cdf.max()\n",
    "plt.plot(cdf_normalized, color = 'b') \n",
    "plt.hist(img.flatten(),256,[0,256], color = 'r') \n",
    "plt.xlim([0,256]) \n",
    "plt.legend(('cdf','histogram'), loc = 'upper left') \n",
    "plt.show()\n",
    "\n",
    "img = cv2.imread('cataract.jpg',0) \n",
    "equ = cv2.equalizeHist(img) \n",
    "res = np.hstack((img,equ))\n",
    "img1=img\n",
    "img=equ\n",
    "hist,bins = np.histogram(img.flatten(),256,[0,256])\n",
    "cdf = hist.cumsum() \n",
    "cdf_normalized = cdf * hist.max()/ cdf.max()\n",
    "plt.plot(cdf_normalized, color = 'b') \n",
    "plt.hist(img.flatten(),256,[0,256], color = 'r') \n",
    "plt.xlim([0,256]) \n",
    "plt.legend(('cdf','histogram'), loc = 'upper left') \n",
    "plt.show()\n",
    "cv2.imshow('result',equ)\n",
    "cv2.imshow('Original',img1)\n",
    "cv2.waitKey(0) \n",
    "cv2.destroyAllWindows()"
   ]
  },
  {
   "cell_type": "code",
   "execution_count": 4,
   "metadata": {
    "collapsed": true
   },
   "outputs": [],
   "source": [
    "gauss1 = cv2.GaussianBlur(equ,(9,9),0.5)\n",
    "cv2.imshow('result',equ)\n",
    "cv2.imshow('Original',img1)\n",
    "cv2.imshow('gauss1', gauss1)\n",
    "\n",
    "cv2.waitKey()\n",
    "cv2.destroyAllWindows()"
   ]
  },
  {
   "cell_type": "code",
   "execution_count": 19,
   "metadata": {
    "collapsed": true
   },
   "outputs": [],
   "source": [
    "gauss1=equ\n",
    "img=gauss1\n",
    "circles = cv2.HoughCircles(img,cv2.HOUGH_GRADIENT,1,20, param1=50,param2=30,minRadius=0,maxRadius=0)"
   ]
  },
  {
   "cell_type": "code",
   "execution_count": 20,
   "metadata": {},
   "outputs": [
    {
     "data": {
      "text/plain": [
       "array([159.5    ,  66.5    ,  67.04103], dtype=float32)"
      ]
     },
     "execution_count": 20,
     "metadata": {},
     "output_type": "execute_result"
    }
   ],
   "source": [
    "arr=circles\n",
    "arr=arr[0]\n",
    "arr=arr[np.argsort(arr[:, 2])]\n",
    "arr[len(arr)-1]"
   ]
  },
  {
   "cell_type": "code",
   "execution_count": 25,
   "metadata": {},
   "outputs": [],
   "source": [
    "cimg=img\n",
    "i=arr[len(arr)-1]\n",
    "for i in range(len(arr)-1,len(arr)-2,-1):\n",
    "    cv2.circle(cimg,(arr[i][0],arr[i][1]),arr[i][2],(0,255,0),2)\n",
    "    #cv2.circle(cimg,(i[0],i[1]),2,(0,0,255),3)\n"
   ]
  },
  {
   "cell_type": "code",
   "execution_count": 27,
   "metadata": {
    "collapsed": true
   },
   "outputs": [],
   "source": [
    "cv2.imshow('gauss1', img)\n",
    "\n",
    "cv2.waitKey()\n",
    "cv2.destroyAllWindows()"
   ]
  },
  {
   "cell_type": "code",
   "execution_count": null,
   "metadata": {
    "collapsed": true
   },
   "outputs": [],
   "source": []
  }
 ],
 "metadata": {
  "kernelspec": {
   "display_name": "Python 3",
   "language": "python",
   "name": "python3"
  },
  "language_info": {
   "codemirror_mode": {
    "name": "ipython",
    "version": 3
   },
   "file_extension": ".py",
   "mimetype": "text/x-python",
   "name": "python",
   "nbconvert_exporter": "python",
   "pygments_lexer": "ipython3",
   "version": "3.6.3"
  }
 },
 "nbformat": 4,
 "nbformat_minor": 2
}
