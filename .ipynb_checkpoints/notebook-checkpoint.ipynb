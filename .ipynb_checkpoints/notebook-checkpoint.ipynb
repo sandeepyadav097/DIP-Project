{
 "cells": [
  {
   "cell_type": "code",
   "execution_count": 60,
   "metadata": {},
   "outputs": [
    {
     "name": "stdout",
     "output_type": "stream",
     "text": [
      "Column Number: \n",
      "266\n",
      "Row Number: \n",
      "152\n",
      "Radius is: \n",
      "91\n"
     ]
    }
   ],
   "source": [
    "import numpy as np\n",
    "import argparse\n",
    "import cv2\n",
    "import time\n",
    "\n",
    "\n",
    "img = cv2.imread('Cataract 1.jpeg', 0)\n",
    "cv2.imshow('image', img)\n",
    "\n",
    "#img=cv2.resize(img, (256, 256))\n",
    "\n",
    "cv2.waitKey(0)\n",
    "\n",
    "# When everything done, release the capture\n",
    "\n",
    "cv2.destroyAllWindows()\n",
    "output = img.copy()\n",
    "result = img.copy()\n",
    "gray = img\n",
    "\n",
    "\n",
    "# apply GuassianBlur to reduce noise. medianBlur is also added for smoothening, reducing noise.\n",
    "gray = cv2.GaussianBlur(gray,(5,5),0);\n",
    "gray = cv2.medianBlur(gray,5)\n",
    "\n",
    "# Adaptive Guassian Threshold is to detect sharp edges in the Image. For more information Google it.\n",
    "gray = cv2.adaptiveThreshold(gray,255,cv2.ADAPTIVE_THRESH_GAUSSIAN_C,\\\n",
    "        cv2.THRESH_BINARY,11,3.5)\n",
    "\n",
    "kernel = np.ones((2,2),np.uint8)\n",
    "gray = cv2.erode(gray,kernel,iterations = 1)\n",
    "# gray = erosion\n",
    "\n",
    "gray = cv2.dilate(gray,kernel,iterations = 1)\n",
    "# gray = dilation\n",
    "\n",
    "# get the size of the final image\n",
    "# img_size = gray.shape\n",
    "# print img_size\n",
    "\n",
    "# detect circles in the image\n",
    "circles = cv2.HoughCircles(gray, cv2.HOUGH_GRADIENT, 1, 200, param1=30, param2=45, minRadius=0, maxRadius=0)\n",
    "# print circles\n",
    "\n",
    "# ensure at least some circles were found\n",
    "if circles is not None:\n",
    "    # convert the (x, y) coordinates and radius of the circles to integers\n",
    "    circles = np.round(circles[0, :]).astype(\"int\")\n",
    "\n",
    "    # loop over the (x, y) coordinates and radius of the circles\n",
    "    for (x, y, r) in circles:\n",
    "        # draw the circle in the output image, then draw a rectangle in the image\n",
    "        # corresponding to the center of the circle\n",
    "        cv2.circle(output, (x, y), r, (255, 255,255), 2)\n",
    "        #cv2.rectangle(output, (x - 5, y - 5), (x + 5, y + 5), (0, 128, 255), -1)\n",
    "        #time.sleep(0.5)\n",
    "        print (\"Column Number: \")\n",
    "        print (x)\n",
    "        print (\"Row Number: \")\n",
    "        print (y)\n",
    "        print (\"Radius is: \")\n",
    "        print (r)\n",
    "        \n",
    "\n",
    "# Display the resulting frame\n",
    "    cv2.imshow('gray',gray)\n",
    "    cv2.imshow('output',output)\n",
    "    \n",
    "\n",
    "image=result[y-r:y+r, x-r:x+r]\n",
    "cv2.imshow('Cropped Image', image)\n",
    "       \n",
    "resized=cv2.resize(image, (256,256))\n",
    "cv2.imshow('Resized Image', resized)    \n",
    "\n",
    "cv2.waitKey(0)\n",
    "\n",
    "# When everything done, release the capture\n",
    "\n",
    "cv2.destroyAllWindows()"
   ]
  },
  {
   "cell_type": "code",
   "execution_count": 61,
   "metadata": {},
   "outputs": [
    {
     "data": {
      "image/png": "[encoded data removed]",
      "text/plain": [
       "<matplotlib.figure.Figure at 0x27097399828>"
      ]
     },
     "metadata": {},
     "output_type": "display_data"
    }
   ],
   "source": [
    "#Histogram \n",
    "\n",
    "from matplotlib import pyplot as plt\n",
    "img = resized\n",
    "img2=resized\n",
    "hist,bins = np.histogram(img.flatten(),256,[0,256])\n",
    "cdf = hist.cumsum() \n",
    "cdf_normalized = cdf * hist.max()/ cdf.max()\n",
    "plt.plot(cdf_normalized, color = 'b') \n",
    "plt.hist(img.flatten(),256,[0,256], color = 'r') \n",
    "plt.xlim([0,256]) \n",
    "plt.legend(('cdf','histogram'), loc = 'upper left') \n",
    "plt.show()\n"
   ]
  },
  {
   "cell_type": "code",
   "execution_count": 62,
   "metadata": {
    "scrolled": true
   },
   "outputs": [
    {
     "data": {
      "text/plain": [
       "array([   0,    0,    0,    0,    0,    0,    0,    0,    0,    0,    0,\n",
       "          0,    0,    0,    0,    0,    0,    0,    0,    0,    0,    0,\n",
       "          0,    0,    0,    0,    0,    0,    0,    0,    0,    0,    0,\n",
       "          0,    0,    0,    0,    0,    5,   14,   37,   92,  206,  312,\n",
       "        405,  624,  800, 1059, 1108, 1137, 1215, 1222, 1296, 1217,  992,\n",
       "        962,  836,  735,  686,  615,  500,  430,  346,  344,  329,  258,\n",
       "        205,  184,  161,  132,  105,   99,   98,  107,   86,   94,  100,\n",
       "         97,   81,   89,   74,   74,   93,   89,   79,   79,   75,   76,\n",
       "         68,   74,   68,   83,   67,   60,   72,   85,   79,   76,   78,\n",
       "         76,   72,   93,   86,  105,  100,  113,  125,  121,  125,  144,\n",
       "        141,  150,  198,  245,  268,  368,  404,  492,  557,  568,  568,\n",
       "        631,  636,  736,  756,  726,  806,  821,  869,  924,  962,  947,\n",
       "        941,  981,  901,  884,  944,  887,  842,  827,  824,  792,  790,\n",
       "        781,  818,  752,  628,  665,  636,  632,  578,  556,  588,  587,\n",
       "        633,  689,  632,  598,  653,  663,  599,  543,  561,  553,  531,\n",
       "        476,  360,  361,  307,  294,  233,  226,  199,  192,  203,  176,\n",
       "        168,  165,  148,  151,  133,  159,  137,  121,  134,  128,  129,\n",
       "        107,  112,   96,   84,   95,   88,   93,   58,   65,   52,   49,\n",
       "         43,   40,   41,   38,   38,   36,   26,   23,   17,   18,   23,\n",
       "         16,   15,   14,   12,   11,   18,    8,   11,   10,   14,   10,\n",
       "         15,    9,   13,   10,    7,   12,   14,   17,    8,    6,    7,\n",
       "         10,    9,   10,    7,    8,   15,   13,    8,    9,    9,   11,\n",
       "          8,   17,   21,   16,   15,   20,   41,   76,  189,  381,  192,\n",
       "         52,    8,    1], dtype=int64)"
      ]
     },
     "execution_count": 62,
     "metadata": {},
     "output_type": "execute_result"
    }
   ],
   "source": [
    "hist"
   ]
  },
  {
   "cell_type": "code",
   "execution_count": 63,
   "metadata": {},
   "outputs": [
    {
     "data": {
      "text/plain": [
       "0.010269352700561285"
      ]
     },
     "execution_count": 63,
     "metadata": {},
     "output_type": "execute_result"
    }
   ],
   "source": [
    "((hist/(256*256))**2).sum()"
   ]
  },
  {
   "cell_type": "code",
   "execution_count": 70,
   "metadata": {
    "collapsed": true
   },
   "outputs": [],
   "source": [
    "import math"
   ]
  },
  {
   "cell_type": "code",
   "execution_count": 77,
   "metadata": {},
   "outputs": [
    {
     "data": {
      "text/plain": [
       "(array([[117.36445618]]), array([[47.43137357]]))"
      ]
     },
     "execution_count": 77,
     "metadata": {},
     "output_type": "execute_result"
    }
   ],
   "source": [
    "std=cv2.meanStdDev(resized)\n",
    "std\n"
   ]
  },
  {
   "cell_type": "code",
   "execution_count": 71,
   "metadata": {},
   "outputs": [
    {
     "data": {
      "text/plain": [
       "47.431735443553784"
      ]
     },
     "execution_count": 71,
     "metadata": {},
     "output_type": "execute_result"
    }
   ],
   "source": [
    "math.sqrt((((resized-resized.mean())**2).sum())/(256*256-1))"
   ]
  },
  {
   "cell_type": "code",
   "execution_count": null,
   "metadata": {
    "collapsed": true
   },
   "outputs": [],
   "source": []
  },
  {
   "cell_type": "code",
   "execution_count": null,
   "metadata": {
    "collapsed": true
   },
   "outputs": [],
   "source": []
  },
  {
   "cell_type": "code",
   "execution_count": null,
   "metadata": {
    "collapsed": true
   },
   "outputs": [],
   "source": []
  },
  {
   "cell_type": "code",
   "execution_count": null,
   "metadata": {
    "collapsed": true
   },
   "outputs": [],
   "source": [
    "#Equalizition \n",
    "equ = cv2.equalizeHist(img2) \n",
    "res = np.hstack((img2,equ))\n",
    "img1=img2\n",
    "img2=equ\n",
    "hist,bins = np.histogram(img2.flatten(),256,[0,256])\n",
    "cdf = hist.cumsum() \n",
    "cdf_normalized = cdf * hist.max()/ cdf.max()\n",
    "plt.plot(cdf_normalized, color = 'b') \n",
    "plt.hist(img2.flatten(),256,[0,256], color = 'r') \n",
    "plt.xlim([0,256]) \n",
    "plt.legend(('cdf','histogram'), loc = 'upper left') \n",
    "plt.show()\n",
    "cv2.imshow('result',equ)\n",
    "cv2.imshow('Original',img1)\n",
    "\n",
    "resultant_image=equ\n",
    "cv2.waitKey(0) \n",
    "\n",
    "cv2.destroyAllWindows()"
   ]
  },
  {
   "cell_type": "code",
   "execution_count": 50,
   "metadata": {
    "collapsed": true
   },
   "outputs": [],
   "source": [
    "resultant_image=resized"
   ]
  },
  {
   "cell_type": "code",
   "execution_count": 53,
   "metadata": {},
   "outputs": [
    {
     "data": {
      "text/plain": [
       "169.52854919433594"
      ]
     },
     "execution_count": 53,
     "metadata": {},
     "output_type": "execute_result"
    }
   ],
   "source": [
    "#intensity\n",
    "intensity=0;\n",
    "\n",
    "for i in range(0,256):\n",
    "    for j in range(0,256):\n",
    "    #print(i)\n",
    "        intensity+=abs(resultant_image[i][j])\n",
    "\n",
    "intensity=intensity/(resultant_image.shape[0]*resultant_image.shape[1])   \n",
    "intensity"
   ]
  },
  {
   "cell_type": "code",
   "execution_count": null,
   "metadata": {
    "collapsed": true
   },
   "outputs": [],
   "source": []
  },
  {
   "cell_type": "code",
   "execution_count": null,
   "metadata": {
    "collapsed": true
   },
   "outputs": [],
   "source": []
  },
  {
   "cell_type": "code",
   "execution_count": null,
   "metadata": {
    "collapsed": true
   },
   "outputs": [],
   "source": []
  },
  {
   "cell_type": "code",
   "execution_count": null,
   "metadata": {
    "collapsed": true
   },
   "outputs": [],
   "source": []
  },
  {
   "cell_type": "code",
   "execution_count": null,
   "metadata": {
    "collapsed": true
   },
   "outputs": [],
   "source": []
  },
  {
   "cell_type": "code",
   "execution_count": null,
   "metadata": {
    "collapsed": true
   },
   "outputs": [],
   "source": []
  },
  {
   "cell_type": "code",
   "execution_count": null,
   "metadata": {
    "collapsed": true
   },
   "outputs": [],
   "source": []
  },
  {
   "cell_type": "code",
   "execution_count": null,
   "metadata": {
    "collapsed": true
   },
   "outputs": [],
   "source": []
  },
  {
   "cell_type": "code",
   "execution_count": null,
   "metadata": {
    "collapsed": true
   },
   "outputs": [],
   "source": []
  },
  {
   "cell_type": "code",
   "execution_count": null,
   "metadata": {
    "collapsed": true
   },
   "outputs": [],
   "source": []
  },
  {
   "cell_type": "code",
   "execution_count": null,
   "metadata": {
    "collapsed": true
   },
   "outputs": [],
   "source": []
  },
  {
   "cell_type": "code",
   "execution_count": null,
   "metadata": {
    "collapsed": true
   },
   "outputs": [],
   "source": []
  },
  {
   "cell_type": "code",
   "execution_count": 3,
   "metadata": {},
   "outputs": [
    {
     "data": {
      "image/png": "[encoded data removed]",
      "text/plain": [
       "<matplotlib.figure.Figure at 0x2708a847160>"
      ]
     },
     "metadata": {},
     "output_type": "display_data"
    }
   ],
   "source": [
    "import cv2\n",
    "import numpy as np\n",
    "from matplotlib import pyplot as plt\n",
    " \n",
    "img = cv2.imread('Cataract 1.jpeg',0)\n",
    "xd=img.copy()\n",
    "hist,bins = np.histogram(img.flatten(),256,[0,256])\n",
    "\n",
    "cdf = hist.cumsum()\n",
    "cdf_normalized = cdf * hist.max()/ cdf.max()\n",
    " \n",
    "plt.plot(cdf_normalized, color = 'b')\n",
    "plt.hist(img.flatten(),256,[0,256], color = 'r')\n",
    "plt.xlim([0,256])\n",
    "plt.legend(('cdf','histogram'), loc = 'upper left')\n",
    "plt.show()\n"
   ]
  },
  {
   "cell_type": "code",
   "execution_count": null,
   "metadata": {
    "collapsed": true
   },
   "outputs": [],
   "source": [
    "import numpy as np\n",
    "import cv2\n",
    "\n",
    "# create a CLAHE object (Arguments are optional).\n",
    "clahe = cv2.createCLAHE(clipLimit=2.0, tileGridSize=(8,8))\n",
    "cl1 = clahe.apply(img)\n",
    "\n",
    "cv2.imwrite('clahe_2.jpg',cl1)"
   ]
  },
  {
   "cell_type": "code",
   "execution_count": null,
   "metadata": {
    "collapsed": true
   },
   "outputs": [],
   "source": []
  },
  {
   "cell_type": "code",
   "execution_count": null,
   "metadata": {
    "collapsed": true
   },
   "outputs": [],
   "source": []
  },
  {
   "cell_type": "code",
   "execution_count": null,
   "metadata": {
    "collapsed": true
   },
   "outputs": [],
   "source": []
  },
  {
   "cell_type": "code",
   "execution_count": null,
   "metadata": {
    "collapsed": true
   },
   "outputs": [],
   "source": []
  },
  {
   "cell_type": "code",
   "execution_count": null,
   "metadata": {
    "collapsed": true
   },
   "outputs": [],
   "source": []
  },
  {
   "cell_type": "code",
   "execution_count": null,
   "metadata": {
    "collapsed": true
   },
   "outputs": [],
   "source": []
  },
  {
   "cell_type": "code",
   "execution_count": null,
   "metadata": {
    "collapsed": true
   },
   "outputs": [],
   "source": []
  },
  {
   "cell_type": "code",
   "execution_count": null,
   "metadata": {
    "collapsed": true
   },
   "outputs": [],
   "source": []
  },
  {
   "cell_type": "code",
   "execution_count": null,
   "metadata": {
    "collapsed": true
   },
   "outputs": [],
   "source": []
  },
  {
   "cell_type": "code",
   "execution_count": null,
   "metadata": {
    "collapsed": true
   },
   "outputs": [],
   "source": []
  },
  {
   "cell_type": "code",
   "execution_count": null,
   "metadata": {
    "collapsed": true
   },
   "outputs": [],
   "source": []
  },
  {
   "cell_type": "code",
   "execution_count": null,
   "metadata": {
    "collapsed": true
   },
   "outputs": [],
   "source": []
  },
  {
   "cell_type": "code",
   "execution_count": null,
   "metadata": {
    "collapsed": true
   },
   "outputs": [],
   "source": []
  },
  {
   "cell_type": "code",
   "execution_count": null,
   "metadata": {
    "collapsed": true
   },
   "outputs": [],
   "source": [
    "if len(circles) == 1:\n",
    "    x, y, r = circles[0]\n",
    "    print (x, y, r)\n",
    "    mask = np.zeros((img.shape[0],img.shape[1]),dtype=np.uint8)\n",
    "    cv2.circle(mask,(x,y),r,(255,255,255),-1,8,0)\n",
    "    #cv2.imwrite(argv[2],mask)\n",
    "    out = img*mask\n",
    "    white = 255-mask\n",
    "    cv2.imwrite('new.jpg',255-out+white)\n",
    "    new=cv2.imread('new.jpg', 0)\n",
    "    cv2.imshow('new',new)\n",
    "    "
   ]
  },
  {
   "cell_type": "code",
   "execution_count": null,
   "metadata": {
    "collapsed": true
   },
   "outputs": [],
   "source": []
  },
  {
   "cell_type": "code",
   "execution_count": null,
   "metadata": {
    "collapsed": true
   },
   "outputs": [],
   "source": []
  },
  {
   "cell_type": "code",
   "execution_count": null,
   "metadata": {
    "collapsed": true
   },
   "outputs": [],
   "source": []
  },
  {
   "cell_type": "code",
   "execution_count": null,
   "metadata": {
    "collapsed": true
   },
   "outputs": [],
   "source": []
  },
  {
   "cell_type": "code",
   "execution_count": null,
   "metadata": {
    "collapsed": true
   },
   "outputs": [],
   "source": []
  },
  {
   "cell_type": "code",
   "execution_count": null,
   "metadata": {
    "collapsed": true
   },
   "outputs": [],
   "source": []
  },
  {
   "cell_type": "code",
   "execution_count": null,
   "metadata": {
    "collapsed": true
   },
   "outputs": [],
   "source": []
  },
  {
   "cell_type": "code",
   "execution_count": null,
   "metadata": {
    "collapsed": true
   },
   "outputs": [],
   "source": []
  },
  {
   "cell_type": "code",
   "execution_count": null,
   "metadata": {
    "collapsed": true
   },
   "outputs": [],
   "source": []
  },
  {
   "cell_type": "code",
   "execution_count": null,
   "metadata": {
    "collapsed": true
   },
   "outputs": [],
   "source": []
  },
  {
   "cell_type": "code",
   "execution_count": null,
   "metadata": {
    "collapsed": true
   },
   "outputs": [],
   "source": [
    "if len(circles) == 1:\n",
    "    x, y, r = circles[0]\n",
    "    print (x, y, r)\n",
    "    mask = np.zeros((img.shape[0],img.shape[1]),dtype=np.uint8)\n",
    "    cv2.circle(mask,(x,y),r,(255,255,255),-1,8,0)\n",
    "    #cv2.imwrite(argv[2],mask)\n",
    "    out = img*mask\n",
    "    white = 255-mask\n",
    "    cv2.imwrite('new.jpg',255-out+white)\n",
    "    \n",
    "new=cv2.imread('new.jpg', 0)\n",
    "cv2.imshow('gray',gray)\n",
    "cv2.imshow('frame',output)\n",
    "cv2.imshow('new',new)\n",
    "    \n",
    "      \n",
    "    \n",
    "    \n",
    "cv2.waitKey(0)   \n",
    "\n",
    "cv2.destroyAllWindows()"
   ]
  },
  {
   "cell_type": "code",
   "execution_count": null,
   "metadata": {
    "collapsed": true
   },
   "outputs": [],
   "source": [
    "\n",
    "# ensure at least some circles were found\n",
    "if circles is not None:\n",
    "    # convert the (x, y) coordinates and radius of the circles to integers\n",
    "    circles = np.round(circles[0, :]).astype(\"int\")\n",
    "\n",
    "    # loop over the (x, y) coordinates and radius of the circles\n",
    "    for (x, y, r) in circles:\n",
    "        # draw the circle in the output image, then draw a rectangle in the image\n",
    "        # corresponding to the center of the circle\n",
    "        cv2.circle(output, (x, y), r, (0, 255, 0), 4)\n",
    "        cv2.rectangle(output, (x - 5, y - 5), (x + 5, y + 5), (0, 128, 255), -1)\n",
    "        #time.sleep(0.5)\n",
    "        print (\"Column Number: \")\n",
    "        print (x)\n",
    "        print (\"Row Number: \")\n",
    "        print (y)\n",
    "        print (\"Radius is: \")\n",
    "        print (r)\n",
    "\n",
    "# Display the resulting frame\n",
    "    cv2.imshow('gray',gray)\n",
    "    cv2.imshow('frame',output)\n",
    "    \n",
    "    \n",
    "    \n",
    "cv2.waitKey(0)\n",
    "\n",
    "# When everything done, release the capture\n",
    "\n",
    "cv2.destroyAllWindows()"
   ]
  },
  {
   "cell_type": "code",
   "execution_count": null,
   "metadata": {
    "collapsed": true
   },
   "outputs": [],
   "source": []
  },
  {
   "cell_type": "code",
   "execution_count": null,
   "metadata": {
    "collapsed": true
   },
   "outputs": [],
   "source": [
    "\n",
    "# ensure at least some circles were found\n",
    "if circles is not None:\n",
    "    # convert the (x, y) coordinates and radius of the circles to integers\n",
    "    circles = np.round(circles[0, :]).astype(\"int\")\n",
    "\n",
    "    # loop over the (x, y) coordinates and radius of the circles\n",
    "    for (x, y, r) in circles:\n",
    "        # draw the circle in the output image, then draw a rectangle in the image\n",
    "        # corresponding to the center of the circle\n",
    "        cv2.circle(output, (x, y), r, (0, 255, 0), 4)\n",
    "        cv2.rectangle(output, (x - 5, y - 5), (x + 5, y + 5), (0, 128, 255), -1)\n",
    "        #time.sleep(0.5)\n",
    "        print (\"Column Number: \")\n",
    "        print (x)\n",
    "        print (\"Row Number: \")\n",
    "        print (y)\n",
    "        print (\"Radius is: \")\n",
    "        print (r)\n",
    "\n",
    "# Display the resulting frame\n",
    "    cv2.imshow('gray',gray)\n",
    "    cv2.imshow('frame',output)\n",
    "    \n",
    "    \n",
    "    \n",
    "cv2.waitKey(0)\n",
    "\n",
    "# When everything done, release the capture\n",
    "\n",
    "cv2.destroyAllWindows()"
   ]
  },
  {
   "cell_type": "code",
   "execution_count": null,
   "metadata": {
    "collapsed": true
   },
   "outputs": [],
   "source": []
  },
  {
   "cell_type": "code",
   "execution_count": null,
   "metadata": {
    "collapsed": true
   },
   "outputs": [],
   "source": []
  },
  {
   "cell_type": "code",
   "execution_count": null,
   "metadata": {
    "collapsed": true
   },
   "outputs": [],
   "source": []
  },
  {
   "cell_type": "code",
   "execution_count": null,
   "metadata": {
    "collapsed": true
   },
   "outputs": [],
   "source": []
  },
  {
   "cell_type": "code",
   "execution_count": null,
   "metadata": {
    "collapsed": true
   },
   "outputs": [],
   "source": []
  },
  {
   "cell_type": "code",
   "execution_count": null,
   "metadata": {
    "collapsed": true
   },
   "outputs": [],
   "source": []
  },
  {
   "cell_type": "code",
   "execution_count": null,
   "metadata": {
    "collapsed": true
   },
   "outputs": [],
   "source": []
  },
  {
   "cell_type": "code",
   "execution_count": null,
   "metadata": {
    "collapsed": true
   },
   "outputs": [],
   "source": [
    "  \n",
    "if val is not None:\n",
    "    # convert the (x, y) coordinates and radius of the circles to integers\n",
    "    val = np.round(circles[0, :]).astype(\"int\")\n",
    "    \n",
    "    # loop over the (x, y) coordinates and radius of the circles\n",
    "    for (x, y, r) in val:\n",
    "        # draw the circle in the output image, then draw a rectangle in the image\n",
    "        # corresponding to the center of the circle\n",
    "        cv2.circle(output, (x, y), r, (0, 255, 0), 4)\n",
    "        cv2.rectangle(output, (x - 5, y - 5), (x + 5, y + 5), (0, 128, 255), -1)\n",
    "        #time.sleep(0.5)\n",
    "        \n",
    "\n",
    "# Display the resulting frame\n",
    "    cv2.imshow('gray',gray)\n",
    "    cv2.imshow('frame',output)\n",
    "\n",
    "cv2.waitKey(0)\n",
    "# When everything done, release the capture\n",
    "\n",
    "cv2.destroyAllWindows()\n"
   ]
  }
 ],
 "metadata": {
  "kernelspec": {
   "display_name": "Python 3",
   "language": "python",
   "name": "python3"
  },
  "language_info": {
   "codemirror_mode": {
    "name": "ipython",
    "version": 3
   },
   "file_extension": ".py",
   "mimetype": "text/x-python",
   "name": "python",
   "nbconvert_exporter": "python",
   "pygments_lexer": "ipython3",
   "version": "3.6.3"
  }
 },
 "nbformat": 4,
 "nbformat_minor": 2
}
